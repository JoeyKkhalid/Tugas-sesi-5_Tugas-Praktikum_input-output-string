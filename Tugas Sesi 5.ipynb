{
 "cells": [
  {
   "cell_type": "markdown",
   "id": "04bf5bc0",
   "metadata": {},
   "source": [
    "<p>Jawaban 1</p>"
   ]
  },
  {
   "cell_type": "code",
   "execution_count": 2,
   "id": "0d0b1e20",
   "metadata": {},
   "outputs": [
    {
     "name": "stdout",
     "output_type": "stream",
     "text": [
      "Hobi kamu apa? :Playing guitar, Singing, Listening to music, Watching movies, and Playing football\n",
      "Hobi kamu : Playing guitar, Singing, Listening to music, Watching movies, and Playing football\n"
     ]
    }
   ],
   "source": [
    "hobi = input('Hobi kamu apa? :')\n",
    "print(f\"Hobi kamu : {hobi}\")\n",
    "             "
   ]
  },
  {
   "cell_type": "markdown",
   "id": "ee5d85e6",
   "metadata": {},
   "source": [
    "<p>Jawaban 2</p>"
   ]
  },
  {
   "cell_type": "code",
   "execution_count": 3,
   "id": "81696024",
   "metadata": {},
   "outputs": [
    {
     "name": "stdout",
     "output_type": "stream",
     "text": [
      "Siapa nama kamu? :Fakhraj\n",
      "Nama kamu berawalan dari huruf F\n"
     ]
    }
   ],
   "source": [
    "nama = input('Siapa nama kamu? :')\n",
    "print(f\"Nama kamu berawalan dari huruf {nama[0]}\")"
   ]
  },
  {
   "cell_type": "markdown",
   "id": "e579fc30",
   "metadata": {},
   "source": [
    "<h3>Latihan</h3>\n",
    "<p>1) Buatlah program tebak hasil perkalian dari 2 angka dari 0 sampai 100, jika user menjawab benar maka tampil jawaban anda True dan jika salah, maka akan tampil jawaban anda False</p>"
   ]
  },
  {
   "cell_type": "code",
   "execution_count": 9,
   "id": "01ef59c7",
   "metadata": {},
   "outputs": [
    {
     "name": "stdout",
     "output_type": "stream",
     "text": [
      "Jawaban Tebak Perkalian 2 Angka\n",
      "Berapakah hasil perkalian 89 dan 53 : 4717\n",
      "Jawaban anda True\n"
     ]
    }
   ],
   "source": [
    "print(\"Jawaban Tebak Perkalian 2 Angka\")\n",
    "\n",
    "from random import randint\n",
    "angka_1 = randint(0,100)\n",
    "angka_2 = randint(0,100)\n",
    "\n",
    "hasil = int(input(f\"Berapakah hasil perkalian {angka_1} dan {angka_2} : \"))\n",
    "print(f\"Jawaban anda {hasil==angka_1 * angka_2}\")"
   ]
  },
  {
   "cell_type": "markdown",
   "id": "0c78fe22",
   "metadata": {},
   "source": [
    "<h3>Latihan</h3>\n",
    "<p>Carilah kode CLDR Names dan unicode dari emoji, dan cetaklah menggunakan fungsi print</p>"
   ]
  },
  {
   "cell_type": "code",
   "execution_count": 10,
   "id": "2b277699",
   "metadata": {},
   "outputs": [
    {
     "name": "stdout",
     "output_type": "stream",
     "text": [
      "Names : winking face\n",
      "Unicode : U0001F609\n",
      "Hasil : 😉\n",
      "\n",
      "Names :face blowing a kiss \n",
      "Unicode : U0001F618\n",
      "Hasil : 😘\n"
     ]
    }
   ],
   "source": [
    "print(\"Names : winking face\")\n",
    "print(\"Unicode : U0001F609\")\n",
    "print(\"Hasil : \\U0001F609\")\n",
    "\n",
    "print(\"\\nNames :face blowing a kiss \")\n",
    "print(\"Unicode : U0001F618\")\n",
    "print(\"Hasil : \\U0001F618\")"
   ]
  },
  {
   "cell_type": "markdown",
   "id": "d53ccc61",
   "metadata": {},
   "source": [
    "<h3>Latihan</h3>\n",
    "<p>Buatlah program untuk mengecek bahwa sebuah email termasuk valid atau tidak. Valid diartikan True dan tidak valid diartikan False Berikut contoh test case yang bisa di gunakan sebagai acuan\n",
    "<ul>\n",
    "    <li>alunsujjada@gmailcom->False</li>\n",
    "    <li>alunsujjada@gmail.com->True</li>\n",
    "    <li>alun.sujjada@gmail.com->False</li>\n",
    "    <li>alunsujjada.gmail.com->False</li>\n",
    "    <li>alun.sujjada@gmail.com->False</li>"
   ]
  },
  {
   "cell_type": "code",
   "execution_count": 12,
   "id": "7ce2ac02",
   "metadata": {},
   "outputs": [
    {
     "name": "stdout",
     "output_type": "stream",
     "text": [
      "alunsujjada@gmail.com\n",
      "True\n"
     ]
    }
   ],
   "source": [
    "import re\n",
    "\n",
    "def email(cek_email):\n",
    "    syarat = \"^[a-zA-Z0-9-_]+@[a-zA-Z0-9]+\\.[a-z]{1,3}$\"\n",
    "    if re.match(syarat,cek_email):\n",
    "       return True\n",
    "    return False \n",
    "cek_email = input()\n",
    "print(email(cek_email))"
   ]
  }
 ],
 "metadata": {
  "kernelspec": {
   "display_name": "Python 3 (ipykernel)",
   "language": "python",
   "name": "python3"
  },
  "language_info": {
   "codemirror_mode": {
    "name": "ipython",
    "version": 3
   },
   "file_extension": ".py",
   "mimetype": "text/x-python",
   "name": "python",
   "nbconvert_exporter": "python",
   "pygments_lexer": "ipython3",
   "version": "3.9.12"
  }
 },
 "nbformat": 4,
 "nbformat_minor": 5
}
